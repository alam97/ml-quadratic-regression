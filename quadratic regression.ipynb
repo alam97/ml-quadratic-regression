{
 "cells": [
  {
   "cell_type": "code",
   "execution_count": 6,
   "id": "3cc62a7e",
   "metadata": {},
   "outputs": [],
   "source": [
    "import numpy as np\n",
    "import matplotlib.pyplot as plt\n",
    "%matplotlib inline"
   ]
  },
  {
   "cell_type": "code",
   "execution_count": 7,
   "id": "e04e42ad",
   "metadata": {},
   "outputs": [],
   "source": [
    "# Test 1\n",
    "y = np.array([1, 4, 2, 7, 5, 8, 10, 9, 7, 9, 10, 11, 10, 11, 10, 8, 9, 6, 5, 4, 3])\n",
    "x = np.arange(0,21)\n",
    "n = np.size(x)\n",
    "\n",
    "# # Test 2\n",
    "# y = np.array([115.6, 157.2, 189.2, 220.8, 253.8, 269.2, 284.8, 285.0, 277.4, \n",
    "#               269.2, 244.2, 231.4, 180.4])\n",
    "# x = np.array([10, 15, 20, 24, 30, 34, 40, 45, 48, 50, 58, 60, 64])\n",
    "# n = np.size(x)"
   ]
  },
  {
   "cell_type": "code",
   "execution_count": 8,
   "id": "6bdbba31",
   "metadata": {},
   "outputs": [],
   "source": [
    "def znajdz_abc(x, y):\n",
    "    # oblicz zmienne wstepne\n",
    "    x1 = np.sum(x)\n",
    "    x2 = np.sum(x**2)\n",
    "    x3 = np.sum(x**3)\n",
    "    x4 = np.sum(x**4)\n",
    "    x1y1 = np.sum(x*y)\n",
    "    x2y1 = np.sum((x**2) * y)\n",
    "    y1 = np.sum(y)\n",
    "    \n",
    "    # oblicz c\n",
    "    cA = (n*x2 - x1**2)*(x2y1*n - y1*x2) - (n*x3 - x1*x2)*(x1y1*n - y1*x1)\n",
    "    cB = (n*x2 - x1**2)*(n*x4 - x2**2) - (n*x3 - x1*x2)*(n*x3 - x1*x2)\n",
    "    c = cA/cB\n",
    "    # oblicz b\n",
    "    b = (x1y1*n - x1*y1 - c*(n*x3 - x1*x2)) / (n*x2 - (x1**2))\n",
    "    # oblicz a\n",
    "    a = 1/n*(y1 - b*x1 - c*x2)\n",
    "    \n",
    "    return (a, b, c)"
   ]
  },
  {
   "cell_type": "code",
   "execution_count": 9,
   "id": "323ac4fd",
   "metadata": {},
   "outputs": [],
   "source": [
    "def regresja_kwadratowa(x, y):\n",
    "    # znajdz wspolczynniki potrzebne to wzoru y = a + bx + cx^2\n",
    "    wspolczynniki = znajdz_abc(x, y)\n",
    "    # oblicz regresje\n",
    "    funkcja_regresji = wspolczynniki[0] + wspolczynniki[1]*x + wspolczynniki[2]*(x**2)\n",
    "    # zwroc array\n",
    "    return funkcja_regresji"
   ]
  },
  {
   "cell_type": "code",
   "execution_count": 10,
   "id": "a2c51edd",
   "metadata": {},
   "outputs": [
    {
     "name": "stdout",
     "output_type": "stream",
     "text": [
      "a= 0.9311123658949774, b= 1.7363814675027487, c=-0.08194894350500757\n"
     ]
    },
    {
     "data": {
      "image/png": "[encoded data removed]",
      "text/plain": [
       "<Figure size 432x288 with 1 Axes>"
      ]
     },
     "metadata": {
      "needs_background": "light"
     },
     "output_type": "display_data"
    }
   ],
   "source": [
    "# wykres funkcji\n",
    "plt.plot(x, y, color = \"g\")\n",
    "# wykres regresji\n",
    "plt.plot(x, regresja_kwadratowa(x,y), color = \"b\")\n",
    "# nadaj oznaczenia wykresowi\n",
    "plt.title(\"Wykres regresji kwadratowej\")\n",
    "plt.ylabel(\"Y\")\n",
    "plt.xlabel(\"X\")\n",
    "# zapisz wykres do pliku\n",
    "plt.savefig('2_wykres_regresja_kwadratowa.jpg')\n",
    "# jezeli uzywa sie srodowiska innego niz jupyter notebook, potrzeba dodac plt.show() na koniec"
   ]
  },
  {
   "cell_type": "code",
   "execution_count": null,
   "id": "d9e26802",
   "metadata": {},
   "outputs": [],
   "source": []
  }
 ],
 "metadata": {
  "kernelspec": {
   "display_name": "Python 3",
   "language": "python",
   "name": "python3"
  },
  "language_info": {
   "codemirror_mode": {
    "name": "ipython",
    "version": 3
   },
   "file_extension": ".py",
   "mimetype": "text/x-python",
   "name": "python",
   "nbconvert_exporter": "python",
   "pygments_lexer": "ipython3",
   "version": "3.8.8"
  }
 },
 "nbformat": 4,
 "nbformat_minor": 5
}
